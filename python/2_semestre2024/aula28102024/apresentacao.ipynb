{
 "cells": [
  {
   "cell_type": "markdown",
   "metadata": {},
   "source": [
    "# Apresentando o Jupyter\n",
    "## Hashtag\n",
    "#### A Hashtag apresenta o texto em tamanhos variados"
   ]
  },
  {
   "cell_type": "code",
   "execution_count": 1,
   "metadata": {},
   "outputs": [
    {
     "name": "stdout",
     "output_type": "stream",
     "text": [
      "Bom dia\n"
     ]
    }
   ],
   "source": [
    "print(\"Bom dia\")"
   ]
  },
  {
   "cell_type": "markdown",
   "metadata": {},
   "source": [
    "Consegimos colocar partes do texto em:\n",
    " * **negrito** ou __negrito__\n",
    " * *italico* ou _itálico_\n",
    "\n",
    " 1. Numerado 1\n",
    " 2. Numerado 2"
   ]
  },
  {
   "cell_type": "markdown",
   "metadata": {},
   "source": [
    "Como funciona essa função:"
   ]
  },
  {
   "cell_type": "code",
   "execution_count": 5,
   "metadata": {},
   "outputs": [
    {
     "name": "stdout",
     "output_type": "stream",
     "text": [
      "o proximo é 39\n"
     ]
    }
   ],
   "source": [
    "def prox(n:int) -> int:\n",
    "    return n + 1\n",
    "\n",
    "print(f\"o proximo é {prox(38)}\")"
   ]
  }
 ],
 "metadata": {
  "kernelspec": {
   "display_name": "Python 3",
   "language": "python",
   "name": "python3"
  },
  "language_info": {
   "codemirror_mode": {
    "name": "ipython",
    "version": 3
   },
   "file_extension": ".py",
   "mimetype": "text/x-python",
   "name": "python",
   "nbconvert_exporter": "python",
   "pygments_lexer": "ipython3",
   "version": "3.12.1"
  }
 },
 "nbformat": 4,
 "nbformat_minor": 2
}
