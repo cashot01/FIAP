{
 "cells": [
  {
   "cell_type": "markdown",
   "metadata": {},
   "source": [
    "# Apresentando o Jupyter\n",
    "## Hashtag\n",
    "#### A Hashtag apresenta o texto em tamanhos variados"
   ]
  },
  {
   "cell_type": "code",
   "execution_count": 1,
   "metadata": {},
   "outputs": [
    {
     "name": "stdout",
     "output_type": "stream",
     "text": [
      "Bom dia\n"
     ]
    }
   ],
   "source": [
    "print(\"Bom dia\")"
   ]
  },
  {
   "cell_type": "markdown",
   "metadata": {},
   "source": [
    "Consegimos colocar partes do texto em:\n",
    " * **negrito** ou __negrito__\n",
    " * *italico* ou _itálico_\n",
    "\n",
    " 1. Numerado 1\n",
    " 2. Numerado 2"
   ]
  },
  {
   "cell_type": "markdown",
   "metadata": {},
   "source": [
    "Como funciona essa função:"
   ]
  },
  {
   "cell_type": "code",
   "execution_count": 5,
   "metadata": {},
   "outputs": [
    {
     "name": "stdout",
     "output_type": "stream",
     "text": [
      "o proximo é 39\n"
     ]
    }
   ],
   "source": [
    "def prox(n:int) -> int:\n",
    "    return n + 1\n",
    "\n",
    "print(f\"o proximo é {prox(38)}\")"
   ]
  },
  {
   "cell_type": "markdown",
   "metadata": {},
   "source": [
    ">Este é um *blockquote*. O sinal usado abre e fecha este código no HTML. \n",
    ">Para adicionar mais uma linha à citação, basta teclar Enter para um novo\n",
    ">código sinal. Isso gerará um novo parágrafo dentro do *blockquote*.\n",
    ">Códigos de **negrito**, _itálico_ e <https://links.com> funcionam aqui."
   ]
  },
  {
   "cell_type": "markdown",
   "metadata": {},
   "source": [
    "O comando que apresenta uma informação na tela é o `print`. Por exemplo: `print(\"Bom dia\")` <br>\n",
    "iiiiiiiiii - fonte normal <br>\n",
    "Edson Oliveira \n",
    "\n",
    "`iiiiiiiiii` - fonte monospace <br>\n",
    "`Edson Oliveira`"
   ]
  },
  {
   "cell_type": "markdown",
   "metadata": {},
   "source": [
    "A sintaxe de uma função é: <br>\n",
    "```\n",
    "def <nome da funcao>(<oarametros>) -> tipo do retorno:\n",
    "    <corpo da funcao>\n",
    "    return <valor retornado>\n",
    "```\n",
    "\n",
    "Sempre uma função funcionará assim"
   ]
  },
  {
   "cell_type": "markdown",
   "metadata": {},
   "source": [
    "Tabela:\n",
    "Exemplo   | Valor do exemplo\n",
    "--------- | ------\n",
    "Exemplo 1 | R$ 10\n",
    "Exemplo 2 | R$ 8\n",
    "Exemplo 3 | R$ 7\n",
    "Exemplo 4 | R$ 8"
   ]
  },
  {
   "cell_type": "markdown",
   "metadata": {},
   "source": [
    "Para especificar o tipo de alinhamento que deseja ter nas tabelas, utilize : ao lado do campo horizontal de hífens ---, na segunda linha da sua tabela. Veja abaixo:\n",
    "\n",
    "Alinhado a esquerda: usar : no lado esquerdo (alinhamento padrão);\n",
    "Alinhado a direita: usar : no lado direito;\n",
    "Centralizado: usar : dos dois lados.\n",
    "Veja no exemplo:\n",
    "\n",
    "Alinhado a esquerda | Centralizado | Alinhado a direita\n",
    ":--------- | :------: | -------:\n",
    "Valor | Valor | Valor"
   ]
  }
 ],
 "metadata": {
  "kernelspec": {
   "display_name": "Python 3",
   "language": "python",
   "name": "python3"
  },
  "language_info": {
   "codemirror_mode": {
    "name": "ipython",
    "version": 3
   },
   "file_extension": ".py",
   "mimetype": "text/x-python",
   "name": "python",
   "nbconvert_exporter": "python",
   "pygments_lexer": "ipython3",
   "version": "3.12.1"
  }
 },
 "nbformat": 4,
 "nbformat_minor": 2
}
